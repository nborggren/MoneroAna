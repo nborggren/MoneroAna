{
 "cells": [
  {
   "cell_type": "code",
   "execution_count": 1,
   "id": "c043ea4c",
   "metadata": {},
   "outputs": [],
   "source": [
    "from MoneroAna import *"
   ]
  },
  {
   "cell_type": "code",
   "execution_count": 2,
   "id": "58ec000c",
   "metadata": {},
   "outputs": [
    {
     "name": "stdout",
     "output_type": "stream",
     "text": [
      "0\n",
      "100\n",
      "200\n",
      "300\n",
      "400\n",
      "500\n",
      "600\n",
      "700\n",
      "800\n",
      "900\n",
      "1000\n",
      "1100\n",
      "1200\n",
      "1300\n",
      "1400\n",
      "1500\n",
      "1600\n",
      "1700\n",
      "1800\n",
      "1900\n",
      "2000\n",
      "2100\n",
      "2200\n",
      "2300\n",
      "2400\n",
      "2500\n",
      "2600\n",
      "2700\n",
      "2800\n",
      "2900\n",
      "3000\n",
      "3100\n",
      "3200\n",
      "3300\n",
      "3400\n",
      "3500\n",
      "3600\n",
      "3700\n",
      "3800\n",
      "3900\n",
      "4000\n",
      "4100\n",
      "4200\n",
      "4300\n",
      "4400\n",
      "4500\n",
      "4600\n",
      "4700\n",
      "4800\n",
      "4900\n",
      "CPU times: user 6min 56s, sys: 39.1 s, total: 7min 35s\n",
      "Wall time: 12min 20s\n"
     ]
    }
   ],
   "source": [
    "%%time\n",
    "registry = {}\n",
    "minheight = 2927000\n",
    "maxheight = 2932000\n",
    "bchain = [block(i) for i in range(2927000, 2932000)]\n",
    "for j,i in enumerate(bchain):\n",
    "    if j%100==0:\n",
    "        print(j)\n",
    "    i.get_txs(registry=registry)"
   ]
  },
  {
   "cell_type": "code",
   "execution_count": 3,
   "id": "c58be4ce",
   "metadata": {},
   "outputs": [
    {
     "data": {
      "text/plain": [
       "150948"
      ]
     },
     "execution_count": 3,
     "metadata": {},
     "output_type": "execute_result"
    }
   ],
   "source": [
    "len(registry)"
   ]
  },
  {
   "cell_type": "code",
   "execution_count": 4,
   "id": "b8eb05a3",
   "metadata": {},
   "outputs": [],
   "source": [
    "#import pandas as pd\n",
    "df = pd.read_csv('overseer.txt', delim_whitespace=True, names = [i for i in range(10)])"
   ]
  },
  {
   "cell_type": "code",
   "execution_count": 5,
   "id": "54d75d4c",
   "metadata": {},
   "outputs": [
    {
     "data": {
      "text/html": [
       "<div>\n",
       "<style scoped>\n",
       "    .dataframe tbody tr th:only-of-type {\n",
       "        vertical-align: middle;\n",
       "    }\n",
       "\n",
       "    .dataframe tbody tr th {\n",
       "        vertical-align: top;\n",
       "    }\n",
       "\n",
       "    .dataframe thead th {\n",
       "        text-align: right;\n",
       "    }\n",
       "</style>\n",
       "<table border=\"1\" class=\"dataframe\">\n",
       "  <thead>\n",
       "    <tr style=\"text-align: right;\">\n",
       "      <th></th>\n",
       "      <th></th>\n",
       "      <th>0</th>\n",
       "      <th>1</th>\n",
       "      <th>2</th>\n",
       "      <th>3</th>\n",
       "      <th>4</th>\n",
       "      <th>5</th>\n",
       "      <th>6</th>\n",
       "      <th>7</th>\n",
       "      <th>8</th>\n",
       "      <th>9</th>\n",
       "    </tr>\n",
       "  </thead>\n",
       "  <tbody>\n",
       "    <tr>\n",
       "      <th>2927514</th>\n",
       "      <th>in</th>\n",
       "      <td>unlocked</td>\n",
       "      <td>2023-07-11</td>\n",
       "      <td>17:08:25Z</td>\n",
       "      <td>0.1</td>\n",
       "      <td>9c57c572f9f9f5192bd06389d5ea4a166a4c18588f2910...</td>\n",
       "      <td>0</td>\n",
       "      <td>0.000000</td>\n",
       "      <td>83aHpK:0.100000000000</td>\n",
       "      <td>1</td>\n",
       "      <td>-</td>\n",
       "    </tr>\n",
       "    <tr>\n",
       "      <th>2927523</th>\n",
       "      <th>in</th>\n",
       "      <td>unlocked</td>\n",
       "      <td>2023-07-11</td>\n",
       "      <td>17:27:53Z</td>\n",
       "      <td>85.9</td>\n",
       "      <td>17aafff5003c91f1f3d33fdab293077d9d839e3d514744...</td>\n",
       "      <td>0</td>\n",
       "      <td>0.000000</td>\n",
       "      <td>83aHpK:85.900000000000</td>\n",
       "      <td>1</td>\n",
       "      <td>-</td>\n",
       "    </tr>\n",
       "    <tr>\n",
       "      <th>2931910</th>\n",
       "      <th>out</th>\n",
       "      <td>-</td>\n",
       "      <td>2023-07-17</td>\n",
       "      <td>17:56:55Z</td>\n",
       "      <td>0.0</td>\n",
       "      <td>8c827b848a4bd07c55fe959e4f5389692d9e2625e87ec3...</td>\n",
       "      <td>0</td>\n",
       "      <td>0.000031</td>\n",
       "      <td>-</td>\n",
       "      <td>0</td>\n",
       "      <td>-</td>\n",
       "    </tr>\n",
       "    <tr>\n",
       "      <th>2931914</th>\n",
       "      <th>out</th>\n",
       "      <td>-</td>\n",
       "      <td>2023-07-17</td>\n",
       "      <td>18:05:28Z</td>\n",
       "      <td>0.0</td>\n",
       "      <td>3e84234aa990efe2342b3b32cfc186299660c6e9c014b3...</td>\n",
       "      <td>0</td>\n",
       "      <td>0.000031</td>\n",
       "      <td>-</td>\n",
       "      <td>0</td>\n",
       "      <td>-</td>\n",
       "    </tr>\n",
       "    <tr>\n",
       "      <th>2931919</th>\n",
       "      <th>out</th>\n",
       "      <td>-</td>\n",
       "      <td>2023-07-17</td>\n",
       "      <td>18:16:37Z</td>\n",
       "      <td>0.0</td>\n",
       "      <td>d7fe2c66925084abfa7afa4c620399fd4c374b386dc35d...</td>\n",
       "      <td>0</td>\n",
       "      <td>0.000031</td>\n",
       "      <td>-</td>\n",
       "      <td>1</td>\n",
       "      <td>-</td>\n",
       "    </tr>\n",
       "    <tr>\n",
       "      <th>2931927</th>\n",
       "      <th>out</th>\n",
       "      <td>-</td>\n",
       "      <td>2023-07-17</td>\n",
       "      <td>18:35:52Z</td>\n",
       "      <td>0.0</td>\n",
       "      <td>6b1ca86936d9a924380829a4fc48983413d4b769374b31...</td>\n",
       "      <td>0</td>\n",
       "      <td>0.000031</td>\n",
       "      <td>-</td>\n",
       "      <td>0</td>\n",
       "      <td>-</td>\n",
       "    </tr>\n",
       "    <tr>\n",
       "      <th>2931928</th>\n",
       "      <th>out</th>\n",
       "      <td>-</td>\n",
       "      <td>2023-07-17</td>\n",
       "      <td>18:40:23Z</td>\n",
       "      <td>0.0</td>\n",
       "      <td>ee45eddf5fb6bc97b5f9e7ab80ae64850cf78c462fdbb9...</td>\n",
       "      <td>0</td>\n",
       "      <td>0.000031</td>\n",
       "      <td>-</td>\n",
       "      <td>3</td>\n",
       "      <td>-</td>\n",
       "    </tr>\n",
       "    <tr>\n",
       "      <th>2931944</th>\n",
       "      <th>out</th>\n",
       "      <td>-</td>\n",
       "      <td>2023-07-17</td>\n",
       "      <td>19:02:26Z</td>\n",
       "      <td>0.0</td>\n",
       "      <td>8126a96f50eac5fabcb0eb0d100c0e639564f689bb746c...</td>\n",
       "      <td>0</td>\n",
       "      <td>0.000086</td>\n",
       "      <td>-</td>\n",
       "      <td>0,4</td>\n",
       "      <td>-</td>\n",
       "    </tr>\n",
       "    <tr>\n",
       "      <th>2944703</th>\n",
       "      <th>out</th>\n",
       "      <td>-</td>\n",
       "      <td>2023-08-04</td>\n",
       "      <td>14:31:39Z</td>\n",
       "      <td>1.0</td>\n",
       "      <td>be869adbc71473428431989d976497e7a4b3f222440ab5...</td>\n",
       "      <td>0</td>\n",
       "      <td>0.000031</td>\n",
       "      <td>-</td>\n",
       "      <td>5</td>\n",
       "      <td>-</td>\n",
       "    </tr>\n",
       "    <tr>\n",
       "      <th>2944805</th>\n",
       "      <th>out</th>\n",
       "      <td>-</td>\n",
       "      <td>2023-08-04</td>\n",
       "      <td>18:06:34Z</td>\n",
       "      <td>2.0</td>\n",
       "      <td>5c6be4eac2c548156c49befe2632091680c07cd20722ef...</td>\n",
       "      <td>0</td>\n",
       "      <td>0.000031</td>\n",
       "      <td>-</td>\n",
       "      <td>0</td>\n",
       "      <td>-</td>\n",
       "    </tr>\n",
       "    <tr>\n",
       "      <th>2944958</th>\n",
       "      <th>out</th>\n",
       "      <td>-</td>\n",
       "      <td>2023-08-04</td>\n",
       "      <td>23:35:56Z</td>\n",
       "      <td>3.0</td>\n",
       "      <td>f3d856c31fe5ce8d2bc64d17ca83cc7e61db8b8068aec6...</td>\n",
       "      <td>0</td>\n",
       "      <td>0.000044</td>\n",
       "      <td>-</td>\n",
       "      <td>3</td>\n",
       "      <td>-</td>\n",
       "    </tr>\n",
       "    <tr>\n",
       "      <th>2945027</th>\n",
       "      <th>out</th>\n",
       "      <td>-</td>\n",
       "      <td>2023-08-05</td>\n",
       "      <td>02:04:11Z</td>\n",
       "      <td>4.0</td>\n",
       "      <td>66895cf13c0cb525fddfbd9b58db92fc5ce733a8fda7d3...</td>\n",
       "      <td>0</td>\n",
       "      <td>0.000031</td>\n",
       "      <td>-</td>\n",
       "      <td>0</td>\n",
       "      <td>-</td>\n",
       "    </tr>\n",
       "    <tr>\n",
       "      <th>2945295</th>\n",
       "      <th>out</th>\n",
       "      <td>-</td>\n",
       "      <td>2023-08-05</td>\n",
       "      <td>11:44:01Z</td>\n",
       "      <td>0.1</td>\n",
       "      <td>e6da16f7147a37125aebf6ec36faf9fb0d55473e5f94a0...</td>\n",
       "      <td>0</td>\n",
       "      <td>0.000031</td>\n",
       "      <td>-</td>\n",
       "      <td>0</td>\n",
       "      <td>-</td>\n",
       "    </tr>\n",
       "    <tr>\n",
       "      <th rowspan=\"2\" valign=\"top\">2945306</th>\n",
       "      <th>out</th>\n",
       "      <td>-</td>\n",
       "      <td>2023-08-05</td>\n",
       "      <td>12:10:04Z</td>\n",
       "      <td>3.0</td>\n",
       "      <td>2deb6a7ff79f400340440af51a953de1a194c9af627dc9...</td>\n",
       "      <td>0</td>\n",
       "      <td>0.000031</td>\n",
       "      <td>-</td>\n",
       "      <td>0</td>\n",
       "      <td>-</td>\n",
       "    </tr>\n",
       "    <tr>\n",
       "      <th>out</th>\n",
       "      <td>-</td>\n",
       "      <td>2023-08-05</td>\n",
       "      <td>12:10:04Z</td>\n",
       "      <td>2.0</td>\n",
       "      <td>a98835a38f507bcad90fded2690ac66489f32357c99398...</td>\n",
       "      <td>0</td>\n",
       "      <td>0.000031</td>\n",
       "      <td>-</td>\n",
       "      <td>0</td>\n",
       "      <td>-</td>\n",
       "    </tr>\n",
       "    <tr>\n",
       "      <th>2945333</th>\n",
       "      <th>out</th>\n",
       "      <td>-</td>\n",
       "      <td>2023-08-05</td>\n",
       "      <td>12:59:59Z</td>\n",
       "      <td>4.0</td>\n",
       "      <td>a1874949d1aece80a383d790f0d2c06a572057a7da1dc3...</td>\n",
       "      <td>0</td>\n",
       "      <td>0.000031</td>\n",
       "      <td>-</td>\n",
       "      <td>0</td>\n",
       "      <td>-</td>\n",
       "    </tr>\n",
       "    <tr>\n",
       "      <th>2945387</th>\n",
       "      <th>out</th>\n",
       "      <td>-</td>\n",
       "      <td>2023-08-05</td>\n",
       "      <td>14:30:46Z</td>\n",
       "      <td>5.0</td>\n",
       "      <td>4f17f31d3abe7b833c448ed6c4d39c0fde102dfdc7bc30...</td>\n",
       "      <td>0</td>\n",
       "      <td>0.000044</td>\n",
       "      <td>-</td>\n",
       "      <td>0</td>\n",
       "      <td>-</td>\n",
       "    </tr>\n",
       "  </tbody>\n",
       "</table>\n",
       "</div>"
      ],
      "text/plain": [
       "                    0           1          2     3  \\\n",
       "2927514 in   unlocked  2023-07-11  17:08:25Z   0.1   \n",
       "2927523 in   unlocked  2023-07-11  17:27:53Z  85.9   \n",
       "2931910 out         -  2023-07-17  17:56:55Z   0.0   \n",
       "2931914 out         -  2023-07-17  18:05:28Z   0.0   \n",
       "2931919 out         -  2023-07-17  18:16:37Z   0.0   \n",
       "2931927 out         -  2023-07-17  18:35:52Z   0.0   \n",
       "2931928 out         -  2023-07-17  18:40:23Z   0.0   \n",
       "2931944 out         -  2023-07-17  19:02:26Z   0.0   \n",
       "2944703 out         -  2023-08-04  14:31:39Z   1.0   \n",
       "2944805 out         -  2023-08-04  18:06:34Z   2.0   \n",
       "2944958 out         -  2023-08-04  23:35:56Z   3.0   \n",
       "2945027 out         -  2023-08-05  02:04:11Z   4.0   \n",
       "2945295 out         -  2023-08-05  11:44:01Z   0.1   \n",
       "2945306 out         -  2023-08-05  12:10:04Z   3.0   \n",
       "        out         -  2023-08-05  12:10:04Z   2.0   \n",
       "2945333 out         -  2023-08-05  12:59:59Z   4.0   \n",
       "2945387 out         -  2023-08-05  14:30:46Z   5.0   \n",
       "\n",
       "                                                             4  5         6  \\\n",
       "2927514 in   9c57c572f9f9f5192bd06389d5ea4a166a4c18588f2910...  0  0.000000   \n",
       "2927523 in   17aafff5003c91f1f3d33fdab293077d9d839e3d514744...  0  0.000000   \n",
       "2931910 out  8c827b848a4bd07c55fe959e4f5389692d9e2625e87ec3...  0  0.000031   \n",
       "2931914 out  3e84234aa990efe2342b3b32cfc186299660c6e9c014b3...  0  0.000031   \n",
       "2931919 out  d7fe2c66925084abfa7afa4c620399fd4c374b386dc35d...  0  0.000031   \n",
       "2931927 out  6b1ca86936d9a924380829a4fc48983413d4b769374b31...  0  0.000031   \n",
       "2931928 out  ee45eddf5fb6bc97b5f9e7ab80ae64850cf78c462fdbb9...  0  0.000031   \n",
       "2931944 out  8126a96f50eac5fabcb0eb0d100c0e639564f689bb746c...  0  0.000086   \n",
       "2944703 out  be869adbc71473428431989d976497e7a4b3f222440ab5...  0  0.000031   \n",
       "2944805 out  5c6be4eac2c548156c49befe2632091680c07cd20722ef...  0  0.000031   \n",
       "2944958 out  f3d856c31fe5ce8d2bc64d17ca83cc7e61db8b8068aec6...  0  0.000044   \n",
       "2945027 out  66895cf13c0cb525fddfbd9b58db92fc5ce733a8fda7d3...  0  0.000031   \n",
       "2945295 out  e6da16f7147a37125aebf6ec36faf9fb0d55473e5f94a0...  0  0.000031   \n",
       "2945306 out  2deb6a7ff79f400340440af51a953de1a194c9af627dc9...  0  0.000031   \n",
       "        out  a98835a38f507bcad90fded2690ac66489f32357c99398...  0  0.000031   \n",
       "2945333 out  a1874949d1aece80a383d790f0d2c06a572057a7da1dc3...  0  0.000031   \n",
       "2945387 out  4f17f31d3abe7b833c448ed6c4d39c0fde102dfdc7bc30...  0  0.000044   \n",
       "\n",
       "                                  7    8  9  \n",
       "2927514 in    83aHpK:0.100000000000    1  -  \n",
       "2927523 in   83aHpK:85.900000000000    1  -  \n",
       "2931910 out                       -    0  -  \n",
       "2931914 out                       -    0  -  \n",
       "2931919 out                       -    1  -  \n",
       "2931927 out                       -    0  -  \n",
       "2931928 out                       -    3  -  \n",
       "2931944 out                       -  0,4  -  \n",
       "2944703 out                       -    5  -  \n",
       "2944805 out                       -    0  -  \n",
       "2944958 out                       -    3  -  \n",
       "2945027 out                       -    0  -  \n",
       "2945295 out                       -    0  -  \n",
       "2945306 out                       -    0  -  \n",
       "        out                       -    0  -  \n",
       "2945333 out                       -    0  -  \n",
       "2945387 out                       -    0  -  "
      ]
     },
     "execution_count": 5,
     "metadata": {},
     "output_type": "execute_result"
    }
   ],
   "source": [
    "df"
   ]
  },
  {
   "cell_type": "code",
   "execution_count": 6,
   "id": "92104ab6",
   "metadata": {},
   "outputs": [
    {
     "name": "stdout",
     "output_type": "stream",
     "text": [
      "0\n",
      "5000\n",
      "10000\n",
      "15000\n",
      "20000\n",
      "25000\n",
      "30000\n",
      "35000\n",
      "40000\n",
      "45000\n",
      "50000\n",
      "55000\n",
      "60000\n",
      "65000\n",
      "70000\n",
      "75000\n",
      "80000\n",
      "85000\n",
      "90000\n",
      "95000\n",
      "100000\n",
      "105000\n",
      "110000\n",
      "115000\n",
      "120000\n",
      "125000\n",
      "130000\n",
      "135000\n",
      "140000\n",
      "145000\n",
      "150000\n",
      "CPU times: user 4.14 s, sys: 25.3 ms, total: 4.17 s\n",
      "Wall time: 4.17 s\n"
     ]
    }
   ],
   "source": [
    "%%time\n",
    "cnt = 0\n",
    "for i,j in registry.items():\n",
    "    if cnt%5000==0:\n",
    "        print(cnt)\n",
    "    cnt+=1\n",
    "    if j.coinbase==True:\n",
    "        continue\n",
    "    for k in j.rings:\n",
    "        for l in k.get_mixins(registry=registry, min_height=minheight, max_height=maxheight):\n",
    "            continue #print(l)"
   ]
  },
  {
   "cell_type": "code",
   "execution_count": 7,
   "id": "046b2362",
   "metadata": {},
   "outputs": [],
   "source": [
    "nsources = [len([registry[j].coinbase==False for j in i.sources]) for i in registry.values()]\n",
    "nsinks = [len([registry[j].coinbase==False for j in i.sinks]) for i in registry.values()]"
   ]
  },
  {
   "cell_type": "code",
   "execution_count": 8,
   "id": "9aa9b74b",
   "metadata": {},
   "outputs": [
    {
     "data": {
      "text/plain": [
       "119"
      ]
     },
     "execution_count": 8,
     "metadata": {},
     "output_type": "execute_result"
    }
   ],
   "source": [
    "len(registry['a45cc00801542ed1db0206cc9b0ddb0c5f7b99a9cb9940c295635e4b48825e14'].sources)"
   ]
  },
  {
   "cell_type": "code",
   "execution_count": 13,
   "id": "4f28c9f9",
   "metadata": {},
   "outputs": [
    {
     "data": {
      "text/plain": [
       "(20.670131435991202, 20.670131435991202)"
      ]
     },
     "execution_count": 13,
     "metadata": {},
     "output_type": "execute_result"
    }
   ],
   "source": [
    "np.mean(nsources), np.mean(nsinks)"
   ]
  },
  {
   "cell_type": "code",
   "execution_count": 16,
   "id": "22856e41",
   "metadata": {},
   "outputs": [
    {
     "data": {
      "text/plain": [
       "(64.08571478443594, 37.225930744631754)"
      ]
     },
     "execution_count": 16,
     "metadata": {},
     "output_type": "execute_result"
    }
   ],
   "source": [
    "np.std(nsinks), np.std(nsources)"
   ]
  },
  {
   "cell_type": "code",
   "execution_count": 10,
   "id": "51c5f819",
   "metadata": {},
   "outputs": [
    {
     "data": {
      "text/plain": [
       "(array([1.48714e+05, 2.09200e+03, 1.26000e+02, 1.00000e+00, 0.00000e+00,\n",
       "        0.00000e+00, 0.00000e+00, 0.00000e+00, 0.00000e+00, 2.00000e+00,\n",
       "        0.00000e+00, 0.00000e+00, 0.00000e+00, 0.00000e+00, 0.00000e+00,\n",
       "        0.00000e+00, 0.00000e+00, 2.00000e+00, 0.00000e+00, 0.00000e+00,\n",
       "        0.00000e+00, 0.00000e+00, 0.00000e+00, 0.00000e+00, 2.00000e+00,\n",
       "        1.00000e+00, 1.00000e+00, 1.00000e+00, 3.00000e+00, 1.00000e+00,\n",
       "        0.00000e+00, 1.00000e+00, 0.00000e+00, 0.00000e+00, 1.00000e+00]),\n",
       " array([   0.        ,  122.14285714,  244.28571429,  366.42857143,\n",
       "         488.57142857,  610.71428571,  732.85714286,  855.        ,\n",
       "         977.14285714, 1099.28571429, 1221.42857143, 1343.57142857,\n",
       "        1465.71428571, 1587.85714286, 1710.        , 1832.14285714,\n",
       "        1954.28571429, 2076.42857143, 2198.57142857, 2320.71428571,\n",
       "        2442.85714286, 2565.        , 2687.14285714, 2809.28571429,\n",
       "        2931.42857143, 3053.57142857, 3175.71428571, 3297.85714286,\n",
       "        3420.        , 3542.14285714, 3664.28571429, 3786.42857143,\n",
       "        3908.57142857, 4030.71428571, 4152.85714286, 4275.        ]),\n",
       " <BarContainer object of 35 artists>)"
      ]
     },
     "execution_count": 10,
     "metadata": {},
     "output_type": "execute_result"
    },
    {
     "data": {
      "image/png": "[encoded data removed]",
      "text/plain": [
       "<Figure size 640x480 with 1 Axes>"
      ]
     },
     "metadata": {},
     "output_type": "display_data"
    }
   ],
   "source": [
    "plt.hist(nsources, bins=35)"
   ]
  },
  {
   "cell_type": "code",
   "execution_count": 37,
   "id": "154e20c2",
   "metadata": {},
   "outputs": [
    {
     "name": "stdout",
     "output_type": "stream",
     "text": [
      "9c57c572f9f9f5192bd06389d5ea4a166a4c18588f2910a255fc3561b3e85b0b 17aafff5003c91f1f3d33fdab293077d9d839e3d5147442004b4fae592aaab75 0\n",
      "9c57c572f9f9f5192bd06389d5ea4a166a4c18588f2910a255fc3561b3e85b0b 8c827b848a4bd07c55fe959e4f5389692d9e2625e87ec33a92a49be82c7666a1 0\n",
      "9c57c572f9f9f5192bd06389d5ea4a166a4c18588f2910a255fc3561b3e85b0b 3e84234aa990efe2342b3b32cfc186299660c6e9c014b38e90962d5f82908e93 0\n",
      "9c57c572f9f9f5192bd06389d5ea4a166a4c18588f2910a255fc3561b3e85b0b d7fe2c66925084abfa7afa4c620399fd4c374b386dc35d72713c441a21133a0b 0\n",
      "9c57c572f9f9f5192bd06389d5ea4a166a4c18588f2910a255fc3561b3e85b0b 6b1ca86936d9a924380829a4fc48983413d4b769374b31c29227f982b6b78189 0\n",
      "9c57c572f9f9f5192bd06389d5ea4a166a4c18588f2910a255fc3561b3e85b0b ee45eddf5fb6bc97b5f9e7ab80ae64850cf78c462fdbb9ff63c050e1b47f7317 0\n",
      "9c57c572f9f9f5192bd06389d5ea4a166a4c18588f2910a255fc3561b3e85b0b 8126a96f50eac5fabcb0eb0d100c0e639564f689bb746c2b408632acfb5181b6 0\n",
      "17aafff5003c91f1f3d33fdab293077d9d839e3d5147442004b4fae592aaab75 9c57c572f9f9f5192bd06389d5ea4a166a4c18588f2910a255fc3561b3e85b0b 0\n",
      "17aafff5003c91f1f3d33fdab293077d9d839e3d5147442004b4fae592aaab75 8c827b848a4bd07c55fe959e4f5389692d9e2625e87ec33a92a49be82c7666a1 0\n",
      "17aafff5003c91f1f3d33fdab293077d9d839e3d5147442004b4fae592aaab75 3e84234aa990efe2342b3b32cfc186299660c6e9c014b38e90962d5f82908e93 0\n",
      "17aafff5003c91f1f3d33fdab293077d9d839e3d5147442004b4fae592aaab75 d7fe2c66925084abfa7afa4c620399fd4c374b386dc35d72713c441a21133a0b 0\n",
      "17aafff5003c91f1f3d33fdab293077d9d839e3d5147442004b4fae592aaab75 6b1ca86936d9a924380829a4fc48983413d4b769374b31c29227f982b6b78189 0\n",
      "17aafff5003c91f1f3d33fdab293077d9d839e3d5147442004b4fae592aaab75 ee45eddf5fb6bc97b5f9e7ab80ae64850cf78c462fdbb9ff63c050e1b47f7317 0\n",
      "17aafff5003c91f1f3d33fdab293077d9d839e3d5147442004b4fae592aaab75 8126a96f50eac5fabcb0eb0d100c0e639564f689bb746c2b408632acfb5181b6 0\n",
      "8c827b848a4bd07c55fe959e4f5389692d9e2625e87ec33a92a49be82c7666a1 9c57c572f9f9f5192bd06389d5ea4a166a4c18588f2910a255fc3561b3e85b0b 0\n",
      "8c827b848a4bd07c55fe959e4f5389692d9e2625e87ec33a92a49be82c7666a1 17aafff5003c91f1f3d33fdab293077d9d839e3d5147442004b4fae592aaab75 0\n",
      "8c827b848a4bd07c55fe959e4f5389692d9e2625e87ec33a92a49be82c7666a1 3e84234aa990efe2342b3b32cfc186299660c6e9c014b38e90962d5f82908e93 0\n",
      "8c827b848a4bd07c55fe959e4f5389692d9e2625e87ec33a92a49be82c7666a1 d7fe2c66925084abfa7afa4c620399fd4c374b386dc35d72713c441a21133a0b 0\n",
      "8c827b848a4bd07c55fe959e4f5389692d9e2625e87ec33a92a49be82c7666a1 6b1ca86936d9a924380829a4fc48983413d4b769374b31c29227f982b6b78189 0\n",
      "8c827b848a4bd07c55fe959e4f5389692d9e2625e87ec33a92a49be82c7666a1 ee45eddf5fb6bc97b5f9e7ab80ae64850cf78c462fdbb9ff63c050e1b47f7317 0\n",
      "8c827b848a4bd07c55fe959e4f5389692d9e2625e87ec33a92a49be82c7666a1 8126a96f50eac5fabcb0eb0d100c0e639564f689bb746c2b408632acfb5181b6 0\n",
      "3e84234aa990efe2342b3b32cfc186299660c6e9c014b38e90962d5f82908e93 9c57c572f9f9f5192bd06389d5ea4a166a4c18588f2910a255fc3561b3e85b0b 0\n",
      "3e84234aa990efe2342b3b32cfc186299660c6e9c014b38e90962d5f82908e93 17aafff5003c91f1f3d33fdab293077d9d839e3d5147442004b4fae592aaab75 0\n",
      "3e84234aa990efe2342b3b32cfc186299660c6e9c014b38e90962d5f82908e93 8c827b848a4bd07c55fe959e4f5389692d9e2625e87ec33a92a49be82c7666a1 0\n",
      "3e84234aa990efe2342b3b32cfc186299660c6e9c014b38e90962d5f82908e93 d7fe2c66925084abfa7afa4c620399fd4c374b386dc35d72713c441a21133a0b 0\n",
      "3e84234aa990efe2342b3b32cfc186299660c6e9c014b38e90962d5f82908e93 6b1ca86936d9a924380829a4fc48983413d4b769374b31c29227f982b6b78189 0\n",
      "3e84234aa990efe2342b3b32cfc186299660c6e9c014b38e90962d5f82908e93 ee45eddf5fb6bc97b5f9e7ab80ae64850cf78c462fdbb9ff63c050e1b47f7317 0\n",
      "3e84234aa990efe2342b3b32cfc186299660c6e9c014b38e90962d5f82908e93 8126a96f50eac5fabcb0eb0d100c0e639564f689bb746c2b408632acfb5181b6 0\n",
      "d7fe2c66925084abfa7afa4c620399fd4c374b386dc35d72713c441a21133a0b 9c57c572f9f9f5192bd06389d5ea4a166a4c18588f2910a255fc3561b3e85b0b 0\n",
      "d7fe2c66925084abfa7afa4c620399fd4c374b386dc35d72713c441a21133a0b 17aafff5003c91f1f3d33fdab293077d9d839e3d5147442004b4fae592aaab75 0\n",
      "d7fe2c66925084abfa7afa4c620399fd4c374b386dc35d72713c441a21133a0b 8c827b848a4bd07c55fe959e4f5389692d9e2625e87ec33a92a49be82c7666a1 0\n",
      "d7fe2c66925084abfa7afa4c620399fd4c374b386dc35d72713c441a21133a0b 3e84234aa990efe2342b3b32cfc186299660c6e9c014b38e90962d5f82908e93 0\n",
      "d7fe2c66925084abfa7afa4c620399fd4c374b386dc35d72713c441a21133a0b 6b1ca86936d9a924380829a4fc48983413d4b769374b31c29227f982b6b78189 0\n",
      "d7fe2c66925084abfa7afa4c620399fd4c374b386dc35d72713c441a21133a0b ee45eddf5fb6bc97b5f9e7ab80ae64850cf78c462fdbb9ff63c050e1b47f7317 0\n",
      "d7fe2c66925084abfa7afa4c620399fd4c374b386dc35d72713c441a21133a0b 8126a96f50eac5fabcb0eb0d100c0e639564f689bb746c2b408632acfb5181b6 0\n",
      "6b1ca86936d9a924380829a4fc48983413d4b769374b31c29227f982b6b78189 9c57c572f9f9f5192bd06389d5ea4a166a4c18588f2910a255fc3561b3e85b0b 0\n",
      "6b1ca86936d9a924380829a4fc48983413d4b769374b31c29227f982b6b78189 17aafff5003c91f1f3d33fdab293077d9d839e3d5147442004b4fae592aaab75 0\n",
      "6b1ca86936d9a924380829a4fc48983413d4b769374b31c29227f982b6b78189 8c827b848a4bd07c55fe959e4f5389692d9e2625e87ec33a92a49be82c7666a1 0\n",
      "6b1ca86936d9a924380829a4fc48983413d4b769374b31c29227f982b6b78189 3e84234aa990efe2342b3b32cfc186299660c6e9c014b38e90962d5f82908e93 0\n",
      "6b1ca86936d9a924380829a4fc48983413d4b769374b31c29227f982b6b78189 d7fe2c66925084abfa7afa4c620399fd4c374b386dc35d72713c441a21133a0b 0\n",
      "6b1ca86936d9a924380829a4fc48983413d4b769374b31c29227f982b6b78189 ee45eddf5fb6bc97b5f9e7ab80ae64850cf78c462fdbb9ff63c050e1b47f7317 1\n",
      "{'3e84234aa990efe2342b3b32cfc186299660c6e9c014b38e90962d5f82908e93'}\n",
      "6b1ca86936d9a924380829a4fc48983413d4b769374b31c29227f982b6b78189 8126a96f50eac5fabcb0eb0d100c0e639564f689bb746c2b408632acfb5181b6 0\n",
      "ee45eddf5fb6bc97b5f9e7ab80ae64850cf78c462fdbb9ff63c050e1b47f7317 9c57c572f9f9f5192bd06389d5ea4a166a4c18588f2910a255fc3561b3e85b0b 0\n",
      "ee45eddf5fb6bc97b5f9e7ab80ae64850cf78c462fdbb9ff63c050e1b47f7317 17aafff5003c91f1f3d33fdab293077d9d839e3d5147442004b4fae592aaab75 0\n",
      "ee45eddf5fb6bc97b5f9e7ab80ae64850cf78c462fdbb9ff63c050e1b47f7317 8c827b848a4bd07c55fe959e4f5389692d9e2625e87ec33a92a49be82c7666a1 0\n",
      "ee45eddf5fb6bc97b5f9e7ab80ae64850cf78c462fdbb9ff63c050e1b47f7317 3e84234aa990efe2342b3b32cfc186299660c6e9c014b38e90962d5f82908e93 0\n",
      "ee45eddf5fb6bc97b5f9e7ab80ae64850cf78c462fdbb9ff63c050e1b47f7317 d7fe2c66925084abfa7afa4c620399fd4c374b386dc35d72713c441a21133a0b 0\n",
      "ee45eddf5fb6bc97b5f9e7ab80ae64850cf78c462fdbb9ff63c050e1b47f7317 6b1ca86936d9a924380829a4fc48983413d4b769374b31c29227f982b6b78189 1\n",
      "{'3e84234aa990efe2342b3b32cfc186299660c6e9c014b38e90962d5f82908e93'}\n",
      "ee45eddf5fb6bc97b5f9e7ab80ae64850cf78c462fdbb9ff63c050e1b47f7317 8126a96f50eac5fabcb0eb0d100c0e639564f689bb746c2b408632acfb5181b6 0\n",
      "8126a96f50eac5fabcb0eb0d100c0e639564f689bb746c2b408632acfb5181b6 9c57c572f9f9f5192bd06389d5ea4a166a4c18588f2910a255fc3561b3e85b0b 0\n",
      "8126a96f50eac5fabcb0eb0d100c0e639564f689bb746c2b408632acfb5181b6 17aafff5003c91f1f3d33fdab293077d9d839e3d5147442004b4fae592aaab75 0\n",
      "8126a96f50eac5fabcb0eb0d100c0e639564f689bb746c2b408632acfb5181b6 8c827b848a4bd07c55fe959e4f5389692d9e2625e87ec33a92a49be82c7666a1 0\n",
      "8126a96f50eac5fabcb0eb0d100c0e639564f689bb746c2b408632acfb5181b6 3e84234aa990efe2342b3b32cfc186299660c6e9c014b38e90962d5f82908e93 0\n",
      "8126a96f50eac5fabcb0eb0d100c0e639564f689bb746c2b408632acfb5181b6 d7fe2c66925084abfa7afa4c620399fd4c374b386dc35d72713c441a21133a0b 0\n",
      "8126a96f50eac5fabcb0eb0d100c0e639564f689bb746c2b408632acfb5181b6 6b1ca86936d9a924380829a4fc48983413d4b769374b31c29227f982b6b78189 0\n",
      "8126a96f50eac5fabcb0eb0d100c0e639564f689bb746c2b408632acfb5181b6 ee45eddf5fb6bc97b5f9e7ab80ae64850cf78c462fdbb9ff63c050e1b47f7317 0\n"
     ]
    }
   ],
   "source": [
    "for i in df[4][:8]:\n",
    "    for j in df[4][:8]:\n",
    "        if i!=j:\n",
    "            intersect = list_intersection(registry[i].sinks, registry[j].sinks)\n",
    "            print(i,j,len(intersect))\n",
    "            if len(intersect)>0:\n",
    "                print(intersect)\n",
    "            "
   ]
  },
  {
   "cell_type": "code",
   "execution_count": 33,
   "id": "063bc44f",
   "metadata": {},
   "outputs": [
    {
     "data": {
      "text/plain": [
       "('8126a96f50eac5fabcb0eb0d100c0e639564f689bb746c2b408632acfb5181b6',\n",
       " '8126a96f50eac5fabcb0eb0d100c0e639564f689bb746c2b408632acfb5181b6')"
      ]
     },
     "execution_count": 33,
     "metadata": {},
     "output_type": "execute_result"
    }
   ],
   "source": [
    "i,j"
   ]
  },
  {
   "cell_type": "code",
   "execution_count": 32,
   "id": "d906783e",
   "metadata": {},
   "outputs": [
    {
     "data": {
      "text/plain": [
       "{'017b2c9c078b84629c2b0585151e30aa3228318b88ca358a35843a856604a68d',\n",
       " '0538d20035911caa6cf7f09c8702eb4902484a6ec30db13b7991a1cab58e2aca',\n",
       " '1962fb884d4b1b738bed5b15ac94e328dc94757667d35d7d9770722d7c60efdd',\n",
       " '1c4d045f75e6a7e1529399962538e5c3ecd9274e6750e88689ea0ab2975fc54a',\n",
       " '1f697dd88c22280a41927f1b645968d18adb48326f6ce283652fbf785eca8197',\n",
       " '230f9c3d1f0bcbe5053c161cb4cd2984ebb3956a78c70a898618486996472813',\n",
       " '2343f013e8bfca37e59abb4f12c65079fef95933057af0e36006b3ae7c948c42',\n",
       " '240b18c4778c41ab6ce3443c71d7a8d624cf8023d12f85fd28b22c16db4d35fb',\n",
       " '2544a000756c576a605eb1eb03a4afdda3f163c56af56837e91e8c0a9e56f4c0',\n",
       " '3ab559d3bd270272d37d6614c7eb61a84e355a8b1d0045ff9c4bb8e96728afe8',\n",
       " '3d9ece294f63908a7498abd95ba24d7897212d4ed90e3f8b6ae19b1a175225d1',\n",
       " '44fe023c5ae3052b92ce977a2c677524ed9fb5775a739cfd8e214e94ba2fbed0',\n",
       " '473b5b2f151626ed2a4e7fd9d92d62dcd27061e69abd53cce8e7afea3a2801bc',\n",
       " '507c2d3dd8c6a87bbfea6e340547b47ca3decf9578f518ae4615ad417d002d70',\n",
       " '52d85c53cb87be6e892a754dde39db201ae95990fc4e6976444857fccea93d58',\n",
       " '5b22f791759358828175574ce45b2ee343baab7460ef61fa2324d60dc9bb3898',\n",
       " '5b991f53e4e2dffc5cbe57d6dc77433ab2569ae42184f75bce39953b4548f6ce',\n",
       " '66076f82aeb6d8c939b5f3646ad17c2fc47cd521ad8fcc0616849acd319fd38c',\n",
       " '6ae4fa8a446593e19204f3679f8d8e172d4002fddc9307f05f65b9821eaffeb2',\n",
       " '6b1ca86936d9a924380829a4fc48983413d4b769374b31c29227f982b6b78189',\n",
       " '6c77e44ba0d82092a8b1271ab0867c12e751cc9bf59b980603091949e96385d1',\n",
       " '70afd6a30eaa91a26e4b45c9d1f059b058bb6b6be75f2b8d07ffab76d4438f1e',\n",
       " '7419fc1d104dcb6fdf2e8bfc8b80301801643c6684651a6c8599c8380ee7bc3d',\n",
       " '754d81891b37d367dddcef9a324286196cb6675149c74ce9169f7ecb33b48221',\n",
       " '75fd4c7443ac9e39ee5ad9b2c90354098df5721520d32b49b671e31e0bead0e9',\n",
       " '7ed4b10ef5c97c22e33ef877d801ce235cb923cc21381c5c1903f88958295417',\n",
       " '80d2844c8a13ed7575d5bdc3a3932af5b040d5fdfb53d23eaed9c3c05467f543',\n",
       " '84414281cf25b144c30e35fbcc9b89c8ed7d64da64d0c0d74c5ade35430e4d7b',\n",
       " '89f10f227bb53a258a8ee3cdca56dc389894f6ce356a02aaeba7179634d64435',\n",
       " '8aef89aa214cad07e99e9da8bd0b1bfd607eecc199e9369dde2123952caa5b2c',\n",
       " '8c827b848a4bd07c55fe959e4f5389692d9e2625e87ec33a92a49be82c7666a1',\n",
       " '8cc014ed3930b0cb5fa659ced4f8435528f6a13659c529d6ee1d623d65b800a2',\n",
       " '942c6d17e48560dddd81349b471b7c4b33f35d296db61a4ea91a8c93bc460027',\n",
       " '98e2d87b6fb066fd32634f8938ab32a606d213b3c44017d8defde2ae8e800e5d',\n",
       " '9afe292912c8c73250778eb0cc40f0eafd012041e721d62307afd6cac99f7ec7',\n",
       " 'ad93580e33da8363e827214ed0642419bff58be51022c4406f30c0962a44bedf',\n",
       " 'b2957e606dbb60bad68804ebb48d226c74c38c1b5565b2cddfdaa35ca328494d',\n",
       " 'b426883da73d7e544a529796c5b4a94645a6ed991c7b77c34d0b2f233d63d3e5',\n",
       " 'b8cae2b1eecc194bb0f80e0567d0d9befbeb85c7c1bb9cc9d2c0b45a6bb7d30a',\n",
       " 'c00b72f94df6e14bc40a2808219c7e4ea360381658e3976a6ed1657468224455',\n",
       " 'c0174d5f6267731a8c41c76e24ad5b6a4dce8ab61e94f164cfe51b68e0a62655',\n",
       " 'cae637d5e61cf2b5e8d97aac3b05dac5564fb7a65a22a72f406a1c9d5c21b565',\n",
       " 'cc249f99b0f88417ecaa15ca62b888120f6e242518ba095899174217f110b985',\n",
       " 'd0be4b7800c7e3fdd9fb204a95ce02d9e569c0a166480b5b5c1b389d00696017',\n",
       " 'd26219a7b764caf778be45f38d8ff36c1dcd5fadfe69da98ea483437eca673e0',\n",
       " 'd7fe2c66925084abfa7afa4c620399fd4c374b386dc35d72713c441a21133a0b',\n",
       " 'dccf3a07906902fd238e0f77b10352b139e6ba73e0e3885b35b7905aee6590a9',\n",
       " 'e41df2f6fd13678fa75ca7b9b4e37c0237107911b78452b874557df0956740f0',\n",
       " 'ee45eddf5fb6bc97b5f9e7ab80ae64850cf78c462fdbb9ff63c050e1b47f7317',\n",
       " 'eee01f36d6940d8e45c66c9e288e8a6fd6ccc17432b92b4ea5364833da6e063e',\n",
       " 'f4c0df3cfcd2f19dc5327e9985f091a88126d79b9bec9db4599914326ae0d8ef',\n",
       " 'f4e6ac06af8d09f13f5d6119b1190a635520f63d31d68a3d287cd7cd1471a153',\n",
       " 'f80bb0dd6765785e260b78f76049c72b4ec99d0585d28d1b6e47cac5e3cbdfba',\n",
       " 'f96c1110a30e7ffdce2d757f1afae584d4004e09d9ee3e7aaa8303770c9c556d',\n",
       " 'fc8144deae3fe30f786b6336914e5fb367d695ce3cfb330a2d10ff77e62a56e2'}"
      ]
     },
     "execution_count": 32,
     "metadata": {},
     "output_type": "execute_result"
    }
   ],
   "source": [
    "list_intersection(registry[i].sinks, registry[j].sinks)"
   ]
  },
  {
   "cell_type": "code",
   "execution_count": null,
   "id": "cbbde1d1",
   "metadata": {},
   "outputs": [],
   "source": [
    "[[i for i in df[4:8] if ] for j in df[4:8]]"
   ]
  },
  {
   "cell_type": "code",
   "execution_count": 30,
   "id": "a98bb611",
   "metadata": {},
   "outputs": [
    {
     "data": {
      "text/plain": [
       "2931928"
      ]
     },
     "execution_count": 30,
     "metadata": {},
     "output_type": "execute_result"
    }
   ],
   "source": [
    "registry['ee45eddf5fb6bc97b5f9e7ab80ae64850cf78c462fdbb9ff63c050e1b47f7317'].block_height"
   ]
  },
  {
   "cell_type": "code",
   "execution_count": 28,
   "id": "55fcf4a0",
   "metadata": {},
   "outputs": [
    {
     "name": "stdout",
     "output_type": "stream",
     "text": [
      "d3d3545c833e5f636118bb7b61b8f46723e42a5d8f377202f2cf735eab40a624 2927466\n",
      "75c15ea40dc4d3c581087c7926f0d4b99d2f05600342009ebbfba6cb379e5ac5 2929755\n",
      "430a519a1430f18fc903e53d7934bc04384fc647b773a7751692305fceade13e 2930529\n",
      "13b3c237af4061aae8b756afd3ad03329fd1a03d672ad39dad9d8780994a101f 2931284\n",
      "e0763a4abd847bec6603a1c7fde91c2bb7df8d6154000496d0fef9fdd703ec52 2931399\n",
      "cbaf2d44a8d073153ca29fa23bfa784b69f896b7db57478015e67f5c07f328ac 2931423\n",
      "1eb7cb2bce2c80de53ca3209da3a62eae195985474a152f9eacffc47679b79d9 2931713\n",
      "1f335c4a2aebed436dab563740d9922e8bf77eb6f065e3ab786209bd11619e72 2931812\n",
      "488fc502f73ed51977695540c8a8f3c39a77fb02dd67447a5a746d7a8a6b6620 2931830\n",
      "9b1a163988f35e8efafd2394fcff57d2216f488ce4a9f7d4192432fc514310d2 2931856\n",
      "d3edbe231330936a03306115871ccf85c75f5d8263929433aec28120d40ea62b 2931881\n",
      "fb0c2c8158a01e2704653da72004482bcba76b5a4aa038dc3735cb67590c049e 2931907\n",
      "cc6656bdca56122a2b223a0f48e5438ecd065c887a1c55642589db416f59a53b 2931909\n",
      "b710c3122e8b7a7503aae03ca9d92b34decce3e180c30dcad83c9f0727d2b09a 2931913\n",
      "3e84234aa990efe2342b3b32cfc186299660c6e9c014b38e90962d5f82908e93 2931914\n"
     ]
    }
   ],
   "source": [
    "for i in registry['ee45eddf5fb6bc97b5f9e7ab80ae64850cf78c462fdbb9ff63c050e1b47f7317'].sinks:\n",
    "    print(i, registry[i].block_height)"
   ]
  },
  {
   "cell_type": "code",
   "execution_count": 29,
   "id": "75ca00c3",
   "metadata": {},
   "outputs": [
    {
     "data": {
      "text/plain": [
       "['4e9b563c6cb0030d45893c62a8ec2e4260a9b1e6246f723bcabebbc9fc94c6de',\n",
       " '8126a96f50eac5fabcb0eb0d100c0e639564f689bb746c2b408632acfb5181b6',\n",
       " '0e425843057b023e6d9f8215f3398aea8518315f2ebc9da2b1b7c9fb18f3141f',\n",
       " '3451e7a4519a3e28874dab702773407e1bec2216c8d912341c0e92453760d385',\n",
       " 'fe2ac3ab2743d44703483fe02d1af480ec7609e29694e1925be2da81dbfa61a3',\n",
       " '6eb8dc5169f27f2f3e9c3a2a918ba2309189c342b0770cfee66e98bfe1c7f6ae',\n",
       " '5e793957dc59ff11b9e0f5106334a89792f9dc5ed1b27a146a11e652fa57eabe',\n",
       " 'a81417dbd9515ac0cb4eede025b1dc897a6a6e415cf580983f705dcba18aaf6e']"
      ]
     },
     "execution_count": 29,
     "metadata": {},
     "output_type": "execute_result"
    }
   ],
   "source": [
    "registry['ee45eddf5fb6bc97b5f9e7ab80ae64850cf78c462fdbb9ff63c050e1b47f7317'].sources"
   ]
  },
  {
   "cell_type": "code",
   "execution_count": null,
   "id": "26899f83",
   "metadata": {},
   "outputs": [],
   "source": []
  },
  {
   "cell_type": "code",
   "execution_count": 17,
   "id": "96f2f1b6",
   "metadata": {},
   "outputs": [
    {
     "data": {
      "text/plain": [
       "['74902bc3169821aeba30f899f8c0108033e7e419ffd9107e9ffb58688e1a281b',\n",
       " '1b6259c9b5578d75277c9873445d39a414af753ef84f52b963d8813fa1cf3ddd']"
      ]
     },
     "execution_count": 17,
     "metadata": {},
     "output_type": "execute_result"
    }
   ],
   "source": [
    "registry['8126a96f50eac5fabcb0eb0d100c0e639564f689bb746c2b408632acfb5181b6'].sources"
   ]
  },
  {
   "cell_type": "code",
   "execution_count": 25,
   "id": "122cfbd3",
   "metadata": {},
   "outputs": [],
   "source": [
    "        \n",
    "class ring:\n",
    "    def __init__(self, inputs, txo):\n",
    "        self.mixins = [i['tx_hash'] for i in inputs['mixins']]\n",
    "        self.block_no = [i['block_no'] for i in inputs['mixins']]\n",
    "        self.public_key = [i['public_key'] for i in inputs['mixins']]\n",
    "        self.youngest = self.block_no[-1]\n",
    "        self.oldest = self.block_no[0]\n",
    "        self.txo = txo\n",
    "        self.block_height = txo.block_height\n",
    "        self.key_image = inputs['key_image']\n",
    "        self.sources = []\n",
    "        self.sinks = []\n",
    "        \n",
    "        self.get_pers_diagram()\n",
    "        #self.tx_hash = tx_hash\n",
    "        #self.coinbase = self.dat['data']['coinbase']\n",
    "        \n",
    "    def get_mixins(self, registry={}, min_height = -1, max_height = -1):\n",
    "        mixins = []\n",
    "        for i,j in zip(self.block_no,self.mixins):\n",
    "            #print(i,j)\n",
    "            if i > max_height or i < min_height:\n",
    "                continue\n",
    "            else:\n",
    "                #self.txo.sinks.append(j)\n",
    "                if j in registry:\n",
    "                    registry[j].sources.append(self.txo.tx_hash)\n",
    "                    registry[self.txo.tx_hash].sinks.append(j)\n",
    "                    mixins.append(registry[j])\n",
    "                else:\n",
    "                    registry[j] = tx(j, registry=registry)\n",
    "           \n",
    "                    registry[j].sources.append(self.txo.tx_hash)\n",
    "                    registry[self.txo.tx_hash].sinks.append(j)\n",
    "                    mixins.append(registry[j])\n",
    "        \n",
    "        return mixins\n",
    "    \n",
    "    def get_distribution(self):\n",
    "        n = len(self.mixins)\n",
    "        self.probabilities = pymc.Categorical([1/n for i in range(n)])\n",
    "        \n",
    "    def get_pers_diagram(self):\n",
    "        pc = np.array(self.block_no).reshape(-1,1)\n",
    "        self.pers_diagram = VR.fit_transform([pc])[0]\n",
    "        #self.pers_diagram[:,1] = np.log10(self.pers_diagram[:,1])\n",
    "\n",
    "    def __str__(self):\n",
    "        return str(self.mixins)\n",
    "    \n",
    "    def __iter__(self):\n",
    "        for i,j in zip(self.block_no[::-1], self.mixins[::-1]):\n",
    "            yield i, tx(j)\n",
    "                       \n",
    "    def __lt__(self, other):\n",
    "        return self.youngest > other.youngest"
   ]
  },
  {
   "cell_type": "code",
   "execution_count": 19,
   "id": "f240f646",
   "metadata": {},
   "outputs": [
    {
     "data": {
      "text/plain": [
       "['43f3c1474870a01b0dd0566ce631a7641dd70b42bab4691312aad89ed585719d',\n",
       " '3394eb2d09f6462a9d8854b413f573233e71cba9d4d13002dfa88ea16006c70d',\n",
       " '909e7b7ca4754a05115cb93227c1fb94c963f40aa98e7da7e6b3ff0a37c35847',\n",
       " '2d715572b4b20eba0deff4a33285a38733f4e11bc0e3feb9be879d21ccfeba33',\n",
       " 'b56251149c70289cdf69224a952fffb3a8e3fdd98c0a372a361f667da80c2eb0',\n",
       " 'a563d7424888fa08de6bb43d950976c40da61945703358b39a6393949446cf47']"
      ]
     },
     "execution_count": 19,
     "metadata": {},
     "output_type": "execute_result"
    }
   ],
   "source": [
    "registry['74902bc3169821aeba30f899f8c0108033e7e419ffd9107e9ffb58688e1a281b'].sources"
   ]
  },
  {
   "cell_type": "code",
   "execution_count": 24,
   "id": "4162706a",
   "metadata": {},
   "outputs": [
    {
     "data": {
      "text/plain": [
       "['31aa9d36d59025ac413186cddfb2978551067559ee946cf0288f68664fd1415c',\n",
       " '43c4a31fd3de6f0bc6982f0a6e8d4f4ff284a7eb66590bc9b7eb3c01e76e8306',\n",
       " 'c185b21bbcab970f3812e82bead7e0a85a032477939173966e8ea17f23ee2658',\n",
       " 'f777df54dcd73e9cf5b3ed9b3cbe37f30dcaea809164b69503450a81b75b7b9e',\n",
       " '3c35f8c7583e43992a71d683800c90612fe6209ff0db1d203e8eb0b7e963991a',\n",
       " 'f3f80d9ec08f086d051ba0a40139abd5af1dcb85a223706b93c67d52d13a475e',\n",
       " '0d04ee316459ee0537c21e0dfe5fccb9a8d2e850e9a502e9db8cf30f052b22e0',\n",
       " '522b97837c583a74c7898ef7e8eb418a22809d9d1fad0db6311d4d2aff80b4a8',\n",
       " '505c7cc9434aba4ca10192eb76bf2af92dde5e7f1b48f603ee01e73df107e786',\n",
       " '46e3421b2125c4f065b58fe36da9a2d54988cd9e8d9efbbedcd95c6ca86149b3',\n",
       " 'f88b4f62d4616c73e7e994d159a2c303784090592aa092195f79f4a5f0b8477f',\n",
       " '2421e180660eae5399bfe596a6973e96ebe31326d826ea73cd737406af9219bd',\n",
       " '8126a96f50eac5fabcb0eb0d100c0e639564f689bb746c2b408632acfb5181b6',\n",
       " '66775749569097faed2d2b9708d01c003e9a2b825c61fe8dcc7a6ef63e8551ab',\n",
       " '163fe45e5a2381e5408be91d48cc0ca30d665c5a6cbb87d3e94a42b9678f441e',\n",
       " '993c55da13312c29d9b5b6cdcbd379d9f39f715371f5c3e44d504ef46ecf8672']"
      ]
     },
     "execution_count": 24,
     "metadata": {},
     "output_type": "execute_result"
    }
   ],
   "source": [
    "registry['74902bc3169821aeba30f899f8c0108033e7e419ffd9107e9ffb58688e1a281b'].rings[0].mixins"
   ]
  },
  {
   "cell_type": "code",
   "execution_count": null,
   "id": "d593dda8",
   "metadata": {},
   "outputs": [],
   "source": []
  }
 ],
 "metadata": {
  "kernelspec": {
   "display_name": "Python 3 (ipykernel)",
   "language": "python",
   "name": "python3"
  },
  "language_info": {
   "codemirror_mode": {
    "name": "ipython",
    "version": 3
   },
   "file_extension": ".py",
   "mimetype": "text/x-python",
   "name": "python",
   "nbconvert_exporter": "python",
   "pygments_lexer": "ipython3",
   "version": "3.10.9"
  }
 },
 "nbformat": 4,
 "nbformat_minor": 5
}
